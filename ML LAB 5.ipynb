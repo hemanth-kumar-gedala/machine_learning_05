{
 "cells": [
  {
   "cell_type": "code",
   "execution_count": 16,
   "id": "7ba7bbf1",
   "metadata": {},
   "outputs": [
    {
     "name": "stdout",
     "output_type": "stream",
     "text": [
      "Error after convergence: 0\n"
     ]
    },
    {
     "data": {
      "image/png": "[encoded data removed]",
      "text/plain": [
       "<Figure size 640x480 with 1 Axes>"
      ]
     },
     "metadata": {},
     "output_type": "display_data"
    }
   ],
   "source": [
    "import numpy as np\n",
    "import matplotlib.pyplot as plt\n",
    "\n",
    "class Perceptron:\n",
    "    def __init__(self, weights):\n",
    "        self.weights = np.array(weights)\n",
    "\n",
    "    def predict(self, inputs):\n",
    "        weighted_sum = np.dot(self.weights, inputs)\n",
    "        return 1 if weighted_sum >= 0 else 0\n",
    "\n",
    "    def train(self, inputs, targets, learning_rate=0.05):\n",
    "        for epoch in range(1000):\n",
    "            error = 0\n",
    "            for i in range(len(inputs)):\n",
    "                prediction = self.predict(inputs[i])\n",
    "                target = targets[i]\n",
    "                error += (target - prediction)**2\n",
    "                self.weights += learning_rate * (target - prediction) * inputs[i]\n",
    "\n",
    "            if error <= 0.002:\n",
    "                break\n",
    "\n",
    "        print(\"Error after convergence:\", error)\n",
    "\n",
    "# Create a perceptron with the given initial weights\n",
    "perceptron = Perceptron([10, 0.2, -0.75])\n",
    "\n",
    "# Train the perceptron on the AND gate training data\n",
    "training_data = np.array([[0, 0, 1], [0, 1, 1], [1, 0, 1], [1, 1, 1]])\n",
    "training_targets = np.array([0, 0, 0, 1])\n",
    "perceptron.train(training_data, training_targets)\n",
    "\n",
    "# Plot the epochs against the error values\n",
    "error_values = []\n",
    "for epoch in range(1000):\n",
    "    error = 0\n",
    "    for i in range(len(training_data)):\n",
    "        prediction = perceptron.predict(training_data[i])\n",
    "        target = training_targets[i]\n",
    "        error += (target - prediction)**2\n",
    "    error_values.append(error)\n",
    "\n",
    "plt.plot(range(1000), error_values)\n",
    "plt.xlabel(\"Epoch\")\n",
    "plt.ylabel(\"Error\")\n",
    "plt.title(\"Convergence of perceptron on AND gate\")\n",
    "plt.show()\n"
   ]
  },
  {
   "cell_type": "code",
   "execution_count": 19,
   "id": "bafb9fba",
   "metadata": {},
   "outputs": [
    {
     "name": "stdout",
     "output_type": "stream",
     "text": [
      "Error after convergence: 3\n",
      "Iterations taken with bipolar step function: 4000\n"
     ]
    }
   ],
   "source": [
    "class Perceptron:\n",
    "    def __init__(self, weights):\n",
    "        self.weights = np.array(weights)\n",
    "        self.iterations = 0  # Add a variable to track the number of iterations\n",
    "\n",
    "    def predict(self, inputs):\n",
    "        weighted_sum = np.dot(self.weights, inputs)\n",
    "        return 1 if weighted_sum > 0 else 0 if weighted_sum == 0 else -1\n",
    "\n",
    "    def train(self, inputs, targets, learning_rate=0.05, max_iterations=1000):\n",
    "        for epoch in range(max_iterations):\n",
    "            error = 0\n",
    "            for i in range(len(inputs)):\n",
    "                prediction = self.predict(inputs[i])\n",
    "                target = targets[i]\n",
    "                error += (target - prediction) ** 2\n",
    "                self.weights += learning_rate * (target - prediction) * inputs[i]\n",
    "                self.iterations += 1  # Increment the iteration count\n",
    "\n",
    "            if error <= 0.002:\n",
    "                break\n",
    "\n",
    "        print(\"Error after convergence:\", error)\n",
    "perceptron_bipolar = Perceptron([10, 0.2, -0.75])\n",
    "\n",
    "# Train the perceptron on the AND gate training data\n",
    "perceptron_bipolar.train(training_data, training_targets)\n",
    "\n",
    "print(\"Iterations taken with bipolar step function:\", perceptron_bipolar.iterations)\n"
   ]
  },
  {
   "cell_type": "code",
   "execution_count": 20,
   "id": "60d83876",
   "metadata": {},
   "outputs": [
    {
     "name": "stdout",
     "output_type": "stream",
     "text": [
      "Error after convergence: 0\n",
      "Iterations taken with sigmoid function: 376\n"
     ]
    }
   ],
   "source": [
    "import numpy as np\n",
    "\n",
    "class Perceptron:\n",
    "    def __init__(self, weights):\n",
    "        self.weights = np.array(weights)\n",
    "        self.iterations = 0  # Add a variable to track the number of iterations\n",
    "\n",
    "    def sigmoid(self, z):\n",
    "        return 1 / (1 + np.exp(-z))\n",
    "\n",
    "    def predict(self, inputs):\n",
    "        weighted_sum = np.dot(self.weights, inputs)\n",
    "        return 1 if self.sigmoid(weighted_sum) >= 0.5 else 0\n",
    "\n",
    "    def train(self, inputs, targets, learning_rate=0.05, max_iterations=1000):\n",
    "        for epoch in range(max_iterations):\n",
    "            error = 0\n",
    "            for i in range(len(inputs)):\n",
    "                prediction = self.predict(inputs[i])\n",
    "                target = targets[i]\n",
    "                error += (target - prediction) ** 2\n",
    "                self.weights += learning_rate * (target - prediction) * inputs[i]\n",
    "                self.iterations += 1  # Increment the iteration count\n",
    "\n",
    "            if error <= 0.002:\n",
    "                break\n",
    "\n",
    "        print(\"Error after convergence:\", error)\n",
    "\n",
    "perceptron_sigmoid = Perceptron([10, 0.2, -0.75])\n",
    "perceptron_sigmoid.train(training_data, training_targets)\n",
    "\n",
    "print(\"Iterations taken with sigmoid function:\", perceptron_sigmoid.iterations)\n",
    "\n"
   ]
  },
  {
   "cell_type": "code",
   "execution_count": 22,
   "id": "b5f56708",
   "metadata": {},
   "outputs": [
    {
     "name": "stdout",
     "output_type": "stream",
     "text": [
      "Error after convergence: 0\n",
      "Iterations taken with ReLU function: 376\n"
     ]
    }
   ],
   "source": [
    "import numpy as np\n",
    "\n",
    "class Perceptron:\n",
    "    def __init__(self, weights):\n",
    "        self.weights = np.array(weights)\n",
    "        self.iterations = 0  # Add a variable to track the number of iterations\n",
    "\n",
    "    def relu(self, z):\n",
    "        return max(0, z)\n",
    "\n",
    "    def predict(self, inputs):\n",
    "        weighted_sum = np.dot(self.weights, inputs)\n",
    "        return 1 if self.relu(weighted_sum) > 0 else 0\n",
    "\n",
    "    def train(self, inputs, targets, learning_rate=0.05, max_iterations=1000):\n",
    "        for epoch in range(max_iterations):\n",
    "            error = 0\n",
    "            for i in range(len(inputs)):\n",
    "                prediction = self.predict(inputs[i])\n",
    "                target = targets[i]\n",
    "                error += (target - prediction) ** 2\n",
    "                self.weights += learning_rate * (target - prediction) * inputs[i]\n",
    "                self.iterations += 1  # Increment the iteration count\n",
    "\n",
    "            if error <= 0.002:\n",
    "                break\n",
    "\n",
    "        print(\"Error after convergence:\", error)\n",
    "perceptron_relu = Perceptron([10, 0.2, -0.75])\n",
    "perceptron_relu.train(training_data, training_targets)\n",
    "\n",
    "print(\"Iterations taken with ReLU function:\", perceptron_relu.iterations)\n"
   ]
  },
  {
   "cell_type": "code",
   "execution_count": null,
   "id": "12a295d9",
   "metadata": {},
   "outputs": [],
   "source": []
  }
 ],
 "metadata": {
  "kernelspec": {
   "display_name": "Python 3 (ipykernel)",
   "language": "python",
   "name": "python3"
  },
  "language_info": {
   "codemirror_mode": {
    "name": "ipython",
    "version": 3
   },
   "file_extension": ".py",
   "mimetype": "text/x-python",
   "name": "python",
   "nbconvert_exporter": "python",
   "pygments_lexer": "ipython3",
   "version": "3.11.4"
  }
 },
 "nbformat": 4,
 "nbformat_minor": 5
}
